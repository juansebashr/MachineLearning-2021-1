{
  "nbformat": 4,
  "nbformat_minor": 0,
  "metadata": {
    "kernelspec": {
      "display_name": "Python 3",
      "language": "python",
      "name": "python3"
    },
    "language_info": {
      "codemirror_mode": {
        "name": "ipython",
        "version": 3
      },
      "file_extension": ".py",
      "mimetype": "text/x-python",
      "name": "python",
      "nbconvert_exporter": "python",
      "pygments_lexer": "ipython3",
      "version": "3.7.6"
    },
    "colab": {
      "name": "Test quiz (students).ipynb",
      "provenance": []
    }
  },
  "cells": [
    {
      "cell_type": "markdown",
      "metadata": {
        "id": "di6-k8yn7yyW"
      },
      "source": [
        "# Test Quiz - Machine Learning\n",
        "------------------\n",
        "This quiz aims to introduce you to [UNCode](https://uncode.unal.edu.co/). The automatic online Judge of Universidad Nacional de Colombia.\n",
        "\n",
        "This platform is going to be used throughout the course to automatically grade some quices and workshops. You will be allowed to upload and submit IPython Notebooks.\n",
        "\n",
        "Above are the different given problems. Please **do not change the signature of the functions to implement**.\n",
        "\n",
        "Once you are done with the solution, you must submit this notebook [here](https://uncode.unal.edu.co/course/ML-2020-1-Group-1/test-quiz). "
      ]
    },
    {
      "cell_type": "markdown",
      "metadata": {
        "id": "_8NhBnBi7yyY"
      },
      "source": [
        "### Problem 1\n",
        "Implement the function `calculate_vector_norm` that receives a vector as a tuple and return a float containing the norm of the vector.\n",
        "For example:\n",
        "\n",
        "```python\n",
        ">> calculate_norm_vector((2, -2, 3, -4))\n",
        "5.7445626\n",
        "```"
      ]
    },
    {
      "cell_type": "code",
      "metadata": {
        "id": "BTX4DEoW7yya"
      },
      "source": [
        "import numpy as np\n",
        "\n",
        "def calculate_norm_vector(vector):\n",
        "    \"\"\"\n",
        "    Function that calculates the norm of a vector\n",
        "    Args:\n",
        "    - vector (tuple): the vector used to calculate the norm.\n",
        "    return:\n",
        "    float containing the norm of the vector.\n",
        "    \"\"\"\n",
        "    return np.linalg.norm(np.array(vector))"
      ],
      "execution_count": 4,
      "outputs": []
    },
    {
      "cell_type": "code",
      "metadata": {
        "id": "uoWNZakL7yyk",
        "colab": {
          "base_uri": "https://localhost:8080/"
        },
        "outputId": "12cc0b2e-573f-4deb-b81f-3799514821d8"
      },
      "source": [
        "calculate_norm_vector((2, -2, 3, -4))"
      ],
      "execution_count": 5,
      "outputs": [
        {
          "output_type": "execute_result",
          "data": {
            "text/plain": [
              "5.744562646538029"
            ]
          },
          "metadata": {
            "tags": []
          },
          "execution_count": 5
        }
      ]
    }
  ]
}